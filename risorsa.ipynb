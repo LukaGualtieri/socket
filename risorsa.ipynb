{
 "cells": [
  {
   "cell_type": "markdown",
   "metadata": {},
   "source": [
    "**Introduzione alle socket in python**\n",
    "\n",
    "Le socket sono uno strumento importante per la comunicazione tra i processi su una rete, sia su internet che su una rete locale. In Python, le socket possono essere utilizzate sia per la comunicazione tramite il protocollo UDP (User Datagram Protocol), che è un protocollo di trasmissione di dati senza connexsione, che TCP (Trasmission Control Protocol) con connessione. Per creare una socket in Python, utilizziamo il metodo socket() del modulo socket. Ilmetodo accetta due parametri: la famiglia di indirizzi (ad esempio, socket.AF_INET per IPv4) e iltipo di socket (ad esempio, socket.SOCK_STREAM per TCP o socket.SOCK_DGRAM per UDP).\n",
    "\n"
   ]
  },
  {
   "cell_type": "markdown",
   "metadata": {},
   "source": [
    "**Socket UDP**\n",
    "\n",
    "Le socket UDP sono utilizzate per inviare e ricevere pacchetti di dati tra due dispositivi senza l'instaurazione di una connessione prima della trasmissione dei dati. questo rende le socket UDP molto utili per la trasmissione di dati in tempo reale come audio o video. Inoltre, il fatto che non ci sia una connesione pre-stabilita significa che le socket UDP sono adatte per la trasmissione di dati a più destinazioni contemporaneamente.\n",
    "In Python, il modulo socket fornisce un'interfaccia per creare e gestuiore le socket UDP. Le primitive principali che possono essere utilizzate con le socket UDP includono:\n",
    "\n",
    "\n",
    "1.  **socket():** questa funzione viene utilizzata per creare una nuova socket UDP. Restituisce un oggetto socket che può essere utilizzato per inviare e ricevere dati.\n",
    "      "
   ]
  },
  {
   "cell_type": "code",
   "execution_count": null,
   "metadata": {},
   "outputs": [],
   "source": [
    "import socket\n",
    "#Creazione della socket UDP\n",
    "sock = socket.socket(socket.AF_INET, socket.SOCK_DGRAM)"
   ]
  },
  {
   "cell_type": "markdown",
   "metadata": {},
   "source": [
    "2.  **bind():** questa funzione viene utilizzata per associare una socket a un indirizzo e una porta specifici del server. Una volta associata, la socket sarà in grado di ricevere i dati inviati a quell'indirizzo e porta specifici. Il metodo accetta un parametro, una tupla contenente l'indirizzo IP e il numero di porta.  "
   ]
  },
  {
   "cell_type": "code",
   "execution_count": null,
   "metadata": {},
   "outputs": [],
   "source": [
    "#Associazione della socket all'indirizzo e alla porta del server\n",
    "server_address = ('127.0.0.1', 10000)\n",
    "sock.bind(server_address)"
   ]
  },
  {
   "cell_type": "markdown",
   "metadata": {},
   "source": [
    "3.  **sendto():** questa funzione viene utilizzata per inviare un messaggio a un indirizzo e una porta specifici. In una socket UDP, il messaggio inviato viene suddiviso in pacchetti e inviato tramite la rete. Non viene effettuato alcun controllo sulla ricezione del messaggio.  "
   ]
  },
  {
   "cell_type": "code",
   "execution_count": null,
   "metadata": {},
   "outputs": [],
   "source": [
    "#Invio di un messaggio alla socket del client\n",
    "message = b'Hello, client!'\n",
    "client_address = ('localhost', 10001)\n",
    "sock.sendto(message, client_address)"
   ]
  },
  {
   "cell_type": "markdown",
   "metadata": {},
   "source": [
    "4.  **recvfrom():** questa funzione viene utilizzata per ricevere un messaggio inviato ad una socket specifica. Essa restituisce il messaggio ricevuto, l'indirizzo e la porta del mittente del messaggio.  "
   ]
  },
  {
   "cell_type": "code",
   "execution_count": null,
   "metadata": {},
   "outputs": [],
   "source": [
    "#Ricezione di un messaggio della socket del client\n",
    "data, address = sock.recvfrom(4096)"
   ]
  },
  {
   "cell_type": "markdown",
   "metadata": {},
   "source": [
    "Esempio completo di un server e un client che comunicano tramite socket UDP in Python potrebbe essere il seguente:\n",
    "\n",
    "**nb: il codice va eseguito in locale**"
   ]
  },
  {
   "cell_type": "code",
   "execution_count": null,
   "metadata": {},
   "outputs": [],
   "source": [
    "import socket\n",
    "\n",
    "SERVER_IP = \"127.0.0.1\"\n",
    "SERVER_PORT = 5005\n",
    "BUFFER_SIZE = 1024\n",
    "\n",
    "#Creazione del socket\n",
    "sock = socket.socket(socket.AF_INET, socket.SOCK_DGRAM)\n",
    "sock.bind((SERVER_IP, SERVER_PORT))\n",
    "\n",
    "print(\"Server in attesa di messaggi...\")\n",
    "\n",
    "while True:\n",
    "    #Ricezione dei dati dal client\n",
    "    data, addr = sock.recvfrom(BUFFER_SIZE)\n",
    "    print(f\"Messaggio ricevuto dal client {addr}: {data.decode()}\")\n",
    "\n",
    "    #Invio di una risposta al client\n",
    "    reply = \"pong\"\n",
    "    sock.sendto(reply.encode(), addr)"
   ]
  },
  {
   "cell_type": "code",
   "execution_count": null,
   "metadata": {},
   "outputs": [],
   "source": [
    "import socket\n",
    "\n",
    "SERVER_IP = \"127.0.0.1\"\n",
    "SERVER_PORT = 5005\n",
    "BUFFER_SIZE = 1024\n",
    "NUM_MESSAGES = 5\n",
    "\n",
    "#Creazione del socket\n",
    "sock = socket.socket(socket.AF_INET, socket.SOCK_DGRAM)\n",
    "\n",
    "for i in range(NUM_MESSAGES):\n",
    "    #Invio delmessaggio al server\n",
    "    message = \"ping\"\n",
    "    sock.sendto(message.encode(), (SERVER_IP, SERVER_PORT))\n",
    "    print(f\"Messaggio inviato al server: {message}\")\n",
    "\n",
    "    #Ricezione della risposta dal server \n",
    "    data, addr = sock.recvfrom(BUFFER_SIZE)\n",
    "    print(f\"Messaggio ricevuto dal server {addr}: {data.decode()}\")\n",
    "\n",
    "#Chiusura del socket\n",
    "sock.close()\n"
   ]
  },
  {
   "cell_type": "code",
   "execution_count": null,
   "metadata": {},
   "outputs": [],
   "source": [
    "input_string = 'Hello'\n",
    "print(type(input_string))\n",
    "input_bytes_encoded = input_string.encode()\n",
    "print(type(input_bytes_encoded))\n",
    "print(input_bytes_encoded)\n",
    "output_string=input_bytes_encoded.decode()\n",
    "print(type(output_string))\n",
    "print(output_string)"
   ]
  }
 ],
 "metadata": {
  "kernelspec": {
   "display_name": "Python 3",
   "language": "python",
   "name": "python3"
  },
  "language_info": {
   "codemirror_mode": {
    "name": "ipython",
    "version": 3
   },
   "file_extension": ".py",
   "mimetype": "text/x-python",
   "name": "python",
   "nbconvert_exporter": "python",
   "pygments_lexer": "ipython3",
   "version": "3.8.10"
  }
 },
 "nbformat": 4,
 "nbformat_minor": 2
}
